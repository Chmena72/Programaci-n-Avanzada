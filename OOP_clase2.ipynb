{
  "cells": [
    {
      "cell_type": "markdown",
      "metadata": {
        "id": "DfgjepQOxzBm"
      },
      "source": [
        "# Atributos de Clase\n",
        "\n",
        "## ¿Qué son los Atributos de Clase?\n",
        "- Son propiedades definidas a nivel de la clase, no a nivel de los objetos.\n",
        "- Se comparten entre todas las instancias de la clase.\n",
        "- Se utilizan para almacenar información que es común a todos los objetos.\n",
        "\n",
        "---\n",
        "\n",
        "## ¿Cómo Definirlos?\n",
        "\n",
        "1. **Declaración Directa en la Clase**\n",
        "   - Los atributos de clase se definen directamente dentro del cuerpo de la clase, fuera de los métodos.\n",
        "2. **Acceso a los Atributos de Clase**\n",
        "   - Se acceden con `Clase.atributo` o `self.atributo` (aunque lo segundo no es recomendable para atributos de clase).\n",
        "3. **Modificación**\n",
        "   - Se pueden modificar directamente desde la clase (`Clase.atributo`) o desde cualquier instancia.\n",
        "\n",
        "---\n",
        "\n"
      ]
    },
    {
      "cell_type": "code",
      "execution_count": null,
      "metadata": {
        "id": "MrNQEEPGxzBn",
        "outputId": "9dcee418-d1d3-4e74-f5e5-9f69aa06ccbc"
      },
      "outputs": [
        {
          "name": "stdout",
          "output_type": "stream",
          "text": [
            "Animalia\n",
            "Animalia\n",
            "Animalia\n",
            "Metazoa\n",
            "Metazoa\n",
            "Metazoa\n"
          ]
        }
      ],
      "source": [
        "class Animal:\n",
        "\n",
        "    reino = \"Animalia\"\n",
        "\n",
        "    def __init__(self, nombre, especie):\n",
        "        self.nombre = nombre\n",
        "        self.especie = especie\n",
        "\n",
        "animal1 = Animal(\"León\", \"Felino\")\n",
        "animal2 = Animal(\"Elefante\", \"Paquidermo\")\n",
        "\n",
        "\n",
        "print(Animal.reino)\n",
        "print(animal1.reino)\n",
        "print(animal2.reino)\n",
        "\n",
        "\n",
        "Animal.reino = \"Metazoa\"\n",
        "\n",
        "print(Animal.reino)\n",
        "print(animal1.reino)\n",
        "print(animal2.reino)\n"
      ]
    },
    {
      "cell_type": "markdown",
      "metadata": {
        "id": "11DwAIXrxzBo"
      },
      "source": [
        "## Herencia\n",
        "\n",
        "En este proceso podemos tener una clase madre y todos sus atributos con métodos, se pueden jalar a otra subclase con caractéristicas nuevas sin alterar a la original"
      ]
    },
    {
      "cell_type": "code",
      "execution_count": null,
      "metadata": {
        "id": "81yq1fppxzBp"
      },
      "outputs": [],
      "source": [
        "class Humano:\n",
        "    def __init__(self,nombre,edad, genero):\n",
        "        self.nombre=nombre\n",
        "        self.edad=edad\n",
        "        self.genero=genero\n",
        "\n",
        "    def caract(self):\n",
        "        print(f\"Hola mi nombre es {self.nombre} tengo {self.edad} y soy {self.genero}\")\n",
        "\n",
        "    def saludo(self):\n",
        "        print(\"Hola soy humano\")"
      ]
    },
    {
      "cell_type": "code",
      "execution_count": null,
      "metadata": {
        "id": "xnVyeUy6xzBp",
        "outputId": "ef532539-9bb7-48e5-ec51-119fba0bc306"
      },
      "outputs": [
        {
          "name": "stdout",
          "output_type": "stream",
          "text": [
            "Hola mi nombre es Gaby tengo 18 y soy Mujer\n",
            "Hola soy humano\n"
          ]
        }
      ],
      "source": [
        "Gaby=Humano(\"Gaby\",18,\"Mujer\")\n",
        "Gaby.caract()\n",
        "Gaby.saludo()\n"
      ]
    },
    {
      "cell_type": "markdown",
      "metadata": {
        "id": "gshciuJWxzBp"
      },
      "source": [
        "# Clase hija\n",
        "En esta se agarra las características del padre y agrega nuevas funciones, con definir en la clase entre paréntesis después del nombre la clase padre"
      ]
    },
    {
      "cell_type": "code",
      "execution_count": null,
      "metadata": {
        "id": "tmEPQSBCxzBp"
      },
      "outputs": [],
      "source": [
        "class programador(Humano):\n",
        "    def saludo2(self):\n",
        "        print(\"hola soy programador\")\n",
        ""
      ]
    },
    {
      "cell_type": "code",
      "execution_count": null,
      "metadata": {
        "id": "oaR6UE60xzBq",
        "outputId": "9436beb6-d1db-4a71-b47e-0b53344eb492"
      },
      "outputs": [
        {
          "name": "stdout",
          "output_type": "stream",
          "text": [
            "Hola mi nombre es Ana tengo 18 y soy Mujer\n",
            "Hola soy humano\n",
            "hola soy programador\n"
          ]
        }
      ],
      "source": [
        "ana=programador(\"Ana\",18,\"Mujer\")\n",
        "ana.caract()\n",
        "ana.saludo()\n",
        "ana.saludo2()"
      ]
    },
    {
      "cell_type": "code",
      "execution_count": null,
      "metadata": {
        "id": "Lu_1VaS-xzBq"
      },
      "outputs": [],
      "source": [
        "class programador(Humano):\n",
        "    def __init__(self, nombre,edad,genero,lenguaje):\n",
        "        super().__init__(nombre,edad,genero)\n",
        "        self.lenguaje=lenguaje\n",
        "\n",
        "    def saludo2(self):\n",
        "        print(\"hola soy programador\")\n",
        "\n",
        "    def accion(self):\n",
        "        print(f\"Yo programo en {self.lenguaje}\")"
      ]
    },
    {
      "cell_type": "code",
      "execution_count": null,
      "metadata": {
        "id": "jyOt8SVvxzBq",
        "outputId": "2b93a0b0-1c95-4280-fc5e-f74e3267c7e6"
      },
      "outputs": [
        {
          "name": "stdout",
          "output_type": "stream",
          "text": [
            "Hola mi nombre es Ana tengo 18 y soy Mujer\n",
            "Hola soy humano\n",
            "hola soy programador\n",
            "Yo programo en C++\n"
          ]
        }
      ],
      "source": [
        "ana=programador(\"Ana\",18,\"Mujer\",\"C++\")\n",
        "ana.caract()\n",
        "ana.saludo()\n",
        "ana.saludo2()\n",
        "ana.accion()"
      ]
    },
    {
      "cell_type": "markdown",
      "metadata": {
        "id": "8yXh2-DYxzBq"
      },
      "source": [
        "Agregar un nuevo atributo ademas de los definidos en la clase humano"
      ]
    },
    {
      "cell_type": "code",
      "execution_count": null,
      "metadata": {
        "id": "KZHJV_JVxzBq"
      },
      "outputs": [],
      "source": [
        "class proga(Humano):\n",
        "    def __init__(self,nombre,edad, genero,lenguaje,color):\n",
        "        super().__init__(nombre,edad,genero)\n",
        "        self.lenguaje=lenguaje\n",
        "        self.color=color\n",
        "\n",
        "    def accion(self):\n",
        "        print(f\"Yo puedo programar en {self.lenguaje}\")\n",
        "\n",
        "    def saludo(self):\n",
        "        print(\"Hola mundo estoy programando en python\")\n",
        "\n",
        "    def como(self):\n",
        "        super().caract()\n",
        "\n",
        "    def favorito(self):\n",
        "        return f\"Mi color favorito es {self.color}\""
      ]
    },
    {
      "cell_type": "code",
      "execution_count": null,
      "metadata": {
        "id": "1tMLSpD8xzBr",
        "outputId": "19d028aa-74e1-43d2-c319-cd0275a8d044"
      },
      "outputs": [
        {
          "name": "stdout",
          "output_type": "stream",
          "text": [
            "Hola mi nombre es Fati tengo 18 y soy Mujer\n",
            "Hola mundo estoy programando en python\n",
            "Yo puedo programar en C++\n",
            "Hola mi nombre es Fati tengo 18 y soy Mujer\n",
            "Mi color favorito es Rosa\n"
          ]
        }
      ],
      "source": [
        "fati=proga(\"Fati\",18,\"Mujer\",\"C++\",\"Rosa\")\n",
        "fati.caract()\n",
        "fati.saludo()\n",
        "fati.accion()\n",
        "fati.como()\n",
        "print(fati.favorito())"
      ]
    },
    {
      "cell_type": "code",
      "execution_count": null,
      "metadata": {
        "id": "KCp7u4gjxzBr"
      },
      "outputs": [],
      "source": [
        "class Animal:\n",
        "    def __init__(self,nombre,color,patas):\n",
        "        self.nombre=nombre\n",
        "        self.color=color\n",
        "        self.patas=patas\n",
        "\n",
        "    def descripcion(self):\n",
        "       return f\"Soy un {self.nombre}, tengo color {self.color}, tengo {self.patas} patas\"\n"
      ]
    },
    {
      "cell_type": "code",
      "execution_count": null,
      "metadata": {
        "id": "CLeASacnxzBr",
        "outputId": "d6bf6d7f-c919-445a-9e34-3397884f1e78"
      },
      "outputs": [
        {
          "data": {
            "text/plain": [
              "'Soy un perro, tengo color gris, tengo 4 patas'"
            ]
          },
          "execution_count": 27,
          "metadata": {},
          "output_type": "execute_result"
        }
      ],
      "source": [
        "ani1=Animal(\"perro\",\"gris\",4)\n",
        "ani1.descripcion()"
      ]
    },
    {
      "cell_type": "code",
      "execution_count": null,
      "metadata": {
        "id": "LoQFQ7z5xzBr",
        "outputId": "7bf065ee-c507-4910-93f0-f5f0f5978f87"
      },
      "outputs": [
        {
          "name": "stdout",
          "output_type": "stream",
          "text": [
            "Soy un Mojarra, tengo color gris, tengo 0 patas y mido 15 cm\n"
          ]
        }
      ],
      "source": [
        "class peces(Animal):\n",
        "    def __init__(self,nombre,color,patas,tamaño):\n",
        "        super().__init__(nombre,color,patas)\n",
        "        self.tamaño=tamaño\n",
        "\n",
        "    def medida(self):\n",
        "        print(super().descripcion()+f\" y mido {self.tamaño} cm\")\n",
        "pez1=peces(\"Mojarra\",\"gris\",0,15)\n",
        "pez1.medida()"
      ]
    },
    {
      "cell_type": "code",
      "execution_count": null,
      "metadata": {
        "id": "QpeSA2w8xzBr",
        "outputId": "2dca1f06-0f62-432c-ae44-7c9655961c7d"
      },
      "outputs": [
        {
          "name": "stdout",
          "output_type": "stream",
          "text": [
            "Soy un Tucan, tengo color verde, tengo 2 patas y mi pico mide 12 cm\n"
          ]
        }
      ],
      "source": [
        "class aves(Animal):\n",
        "    def __init__(self,nombre,color,patas,tamaño_pico):\n",
        "        super().__init__(nombre,color,patas)\n",
        "        self.tamaño_pico=tamaño_pico\n",
        "\n",
        "    def pico(self):\n",
        "        print(super().descripcion()+f\" y mi pico mide {self.tamaño_pico} cm\")\n",
        "ave1=aves(\"Tucan\",\"verde\",2,12)\n",
        "ave1.pico()"
      ]
    },
    {
      "cell_type": "code",
      "execution_count": null,
      "metadata": {
        "id": "oJ1qmfvkxzBr",
        "outputId": "3316c616-bd03-4635-a2db-30e330d2de38"
      },
      "outputs": [
        {
          "name": "stdout",
          "output_type": "stream",
          "text": [
            "Soy un lagarto, tengo color verde, tengo 4 patas y vivo en Selva\n"
          ]
        }
      ],
      "source": [
        "class reptiles(Animal):\n",
        "    def __init__(self,nombre,color,patas,habitat):\n",
        "        super().__init__(nombre,color,patas)\n",
        "        self.habitat=habitat\n",
        "\n",
        "    def donce_vive(self):\n",
        "        print(super().descripcion()+f\" y vivo en {self.habitat}\")\n",
        "rep1=reptiles(\"lagarto\",\"verde\",4,\"Selva\")\n",
        "rep1.donce_vive()"
      ]
    }
  ],
  "metadata": {
    "kernelspec": {
      "display_name": "Python 3",
      "language": "python",
      "name": "python3"
    },
    "language_info": {
      "codemirror_mode": {
        "name": "ipython",
        "version": 3
      },
      "file_extension": ".py",
      "mimetype": "text/x-python",
      "name": "python",
      "nbconvert_exporter": "python",
      "pygments_lexer": "ipython3",
      "version": "3.12.6"
    },
    "colab": {
      "provenance": []
    }
  },
  "nbformat": 4,
  "nbformat_minor": 0
}