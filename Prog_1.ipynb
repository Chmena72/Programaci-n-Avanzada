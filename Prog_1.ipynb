{
  "cells": [
    {
      "cell_type": "markdown",
      "metadata": {
        "id": "ecivKj4Ox1yo"
      },
      "source": [
        "## Primer código comparativo"
      ]
    },
    {
      "cell_type": "code",
      "execution_count": null,
      "metadata": {
        "id": "Hvyi36YVx1yp"
      },
      "outputs": [],
      "source": [
        "#Programación estructurada (Procedimental) oculto\n",
        "def incrementar(dato):\n",
        "    dato=dato+1\n",
        "    return dato"
      ]
    },
    {
      "cell_type": "code",
      "execution_count": null,
      "metadata": {
        "id": "QP0gJ0alx1yq",
        "outputId": "cb6ebb79-705b-414f-dd30-acb97afdcecf"
      },
      "outputs": [
        {
          "name": "stdout",
          "output_type": "stream",
          "text": [
            "2\n"
          ]
        }
      ],
      "source": [
        "#Programación estructurada (Procedimental)\n",
        "cosa=0\n",
        "cosa=incrementar(cosa)\n",
        "cosa=incrementar(cosa)\n",
        "print(cosa)"
      ]
    },
    {
      "cell_type": "code",
      "execution_count": null,
      "metadata": {
        "id": "i8UaYt5mx1yq"
      },
      "outputs": [],
      "source": [
        "#OOP oculto\n",
        "class Micosa(object):\n",
        "    def __init__(self):\n",
        "        self.val=0\n",
        "    def incremento(self):\n",
        "        self.val=self.val+1\n",
        "    def __repr__(self):\n",
        "        return str(self.val)"
      ]
    },
    {
      "cell_type": "code",
      "execution_count": null,
      "metadata": {
        "id": "UkF-i5rOx1yr",
        "outputId": "7f8268d2-20af-419f-8814-9766c9d3d9ed"
      },
      "outputs": [
        {
          "name": "stdout",
          "output_type": "stream",
          "text": [
            "2\n"
          ]
        }
      ],
      "source": [
        "#OPP\n",
        "cosa2=Micosa()\n",
        "cosa2.incremento()\n",
        "cosa2.incremento()\n",
        "print(cosa2)"
      ]
    }
  ],
  "metadata": {
    "kernelspec": {
      "display_name": "Python 3",
      "language": "python",
      "name": "python3"
    },
    "language_info": {
      "codemirror_mode": {
        "name": "ipython",
        "version": 3
      },
      "file_extension": ".py",
      "mimetype": "text/x-python",
      "name": "python",
      "nbconvert_exporter": "python",
      "pygments_lexer": "ipython3",
      "version": "3.12.6"
    },
    "colab": {
      "provenance": []
    }
  },
  "nbformat": 4,
  "nbformat_minor": 0
}