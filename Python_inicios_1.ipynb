{
  "cells": [
    {
      "cell_type": "markdown",
      "metadata": {
        "id": "ep6Auqlwx5Jo"
      },
      "source": [
        "# Comando Básico para imprimir"
      ]
    },
    {
      "cell_type": "code",
      "execution_count": null,
      "metadata": {
        "id": "V_J6RXUJx5Jq",
        "outputId": "3b420acb-be60-4587-b45f-32ffe75ee3e7"
      },
      "outputs": [
        {
          "name": "stdout",
          "output_type": "stream",
          "text": [
            "Hola mundo\n"
          ]
        }
      ],
      "source": [
        "print(\"Hola mundo\")"
      ]
    },
    {
      "cell_type": "code",
      "execution_count": null,
      "metadata": {
        "id": "ruoa-MUzx5Jr",
        "outputId": "6d47f344-9c27-47a5-9272-ed4b02e9b7b7"
      },
      "outputs": [
        {
          "name": "stdout",
          "output_type": "stream",
          "text": [
            "Hola mundo\n"
          ]
        }
      ],
      "source": [
        "print('Hola mundo')"
      ]
    },
    {
      "cell_type": "markdown",
      "metadata": {
        "id": "pasn0Ysix5Jr"
      },
      "source": [
        "# Guardar variables"
      ]
    },
    {
      "cell_type": "code",
      "execution_count": null,
      "metadata": {
        "id": "33M1Gs1gx5Jr",
        "outputId": "b7673381-d9dd-4b78-8e9d-75aae8da5339"
      },
      "outputs": [
        {
          "data": {
            "text/plain": [
              "5"
            ]
          },
          "execution_count": 4,
          "metadata": {},
          "output_type": "execute_result"
        }
      ],
      "source": [
        "er_1=4\n",
        "er_1+1"
      ]
    },
    {
      "cell_type": "code",
      "execution_count": null,
      "metadata": {
        "id": "SIUE8lx7x5Jr",
        "outputId": "a7af39dc-c1b4-4702-efa6-b88662baa82d"
      },
      "outputs": [
        {
          "data": {
            "text/plain": [
              "4"
            ]
          },
          "execution_count": 5,
          "metadata": {},
          "output_type": "execute_result"
        }
      ],
      "source": [
        "er_1"
      ]
    },
    {
      "cell_type": "code",
      "execution_count": null,
      "metadata": {
        "id": "MFk_fGYAx5Js"
      },
      "outputs": [],
      "source": [
        "a=\"Jimmy\"\n",
        "b=\"Romero\"\n",
        "c=\"Azul\"\n",
        "d=18\n",
        "e=\"Ciencia de Datos\""
      ]
    },
    {
      "cell_type": "markdown",
      "metadata": {
        "id": "UHLh6PCsx5Js"
      },
      "source": [
        "## Impresión de cadenas de texto"
      ]
    },
    {
      "cell_type": "code",
      "execution_count": null,
      "metadata": {
        "id": "tcjDLwTsx5Js",
        "outputId": "bd8e2187-87eb-4075-fa2e-1fa56782dab4"
      },
      "outputs": [
        {
          "name": "stdout",
          "output_type": "stream",
          "text": [
            "Mi nombre es Jimmy Romero , mi color favorito es Azul Tengo 18 años y estudio Ciencia de Datos\n"
          ]
        }
      ],
      "source": [
        "print(\"Mi nombre es\",a,b,\", mi color favorito es\",c,\"Tengo\",d,\"años y estudio\",e)"
      ]
    },
    {
      "cell_type": "code",
      "execution_count": null,
      "metadata": {
        "id": "waf3wvZVx5Js",
        "outputId": "f43dee09-9aa0-46ca-97a4-c6416a8be44c"
      },
      "outputs": [
        {
          "name": "stdout",
          "output_type": "stream",
          "text": [
            "Mi nombre es Jimmy Romero, mi color favorito es Azul, tengo 18 años y estudio Ciencia de Datos\n"
          ]
        }
      ],
      "source": [
        "print(f\"Mi nombre es {a} {b}, mi color favorito es {c}, tengo {d} años y estudio {e}\")"
      ]
    },
    {
      "cell_type": "code",
      "execution_count": null,
      "metadata": {
        "id": "4OLvOyqrx5Js",
        "outputId": "cd4c7fdd-b18c-403c-ba9e-76c0f8c02e76"
      },
      "outputs": [
        {
          "data": {
            "text/plain": [
              "str"
            ]
          },
          "execution_count": 9,
          "metadata": {},
          "output_type": "execute_result"
        }
      ],
      "source": [
        "type(a)"
      ]
    },
    {
      "cell_type": "code",
      "execution_count": null,
      "metadata": {
        "id": "KjsLWl6cx5Jt",
        "outputId": "3ba4c755-bacb-4924-c737-25d85fd56a2e"
      },
      "outputs": [
        {
          "data": {
            "text/plain": [
              "int"
            ]
          },
          "execution_count": 10,
          "metadata": {},
          "output_type": "execute_result"
        }
      ],
      "source": [
        "type(d)"
      ]
    },
    {
      "cell_type": "code",
      "execution_count": null,
      "metadata": {
        "id": "PC_5E_qBx5Jt"
      },
      "outputs": [],
      "source": [
        "f=13.45"
      ]
    },
    {
      "cell_type": "code",
      "execution_count": null,
      "metadata": {
        "id": "Wr3hOtihx5Jt",
        "outputId": "59163dc5-322a-4683-b7ea-a9c969504669"
      },
      "outputs": [
        {
          "data": {
            "text/plain": [
              "float"
            ]
          },
          "execution_count": 12,
          "metadata": {},
          "output_type": "execute_result"
        }
      ],
      "source": [
        "type(f)"
      ]
    },
    {
      "cell_type": "code",
      "execution_count": null,
      "metadata": {
        "id": "CS1eqEcjx5Jt"
      },
      "outputs": [],
      "source": [
        "g=True"
      ]
    },
    {
      "cell_type": "code",
      "execution_count": null,
      "metadata": {
        "id": "In0V1QdLx5Jt",
        "outputId": "f000e3a0-44a7-411e-d85a-772ad25b4281"
      },
      "outputs": [
        {
          "data": {
            "text/plain": [
              "bool"
            ]
          },
          "execution_count": 14,
          "metadata": {},
          "output_type": "execute_result"
        }
      ],
      "source": [
        "type(g)"
      ]
    },
    {
      "cell_type": "code",
      "execution_count": null,
      "metadata": {
        "id": "FHSQj2cJx5Jt"
      },
      "outputs": [],
      "source": [
        "nombre=input(\"Dame tu nombre: \")"
      ]
    },
    {
      "cell_type": "code",
      "execution_count": null,
      "metadata": {
        "id": "TD8g-H4Tx5Ju",
        "outputId": "213364de-c457-4bb8-8503-93f5845d3e1e"
      },
      "outputs": [
        {
          "name": "stdout",
          "output_type": "stream",
          "text": [
            "Jimmy\n"
          ]
        }
      ],
      "source": [
        "print(nombre)"
      ]
    },
    {
      "cell_type": "code",
      "execution_count": null,
      "metadata": {
        "id": "7OOJ3OZsx5Ju",
        "outputId": "449215bf-1a0d-4773-9066-2f79a61f21dc"
      },
      "outputs": [
        {
          "data": {
            "text/plain": [
              "str"
            ]
          },
          "execution_count": 17,
          "metadata": {},
          "output_type": "execute_result"
        }
      ],
      "source": [
        "type(nombre)"
      ]
    },
    {
      "cell_type": "code",
      "execution_count": null,
      "metadata": {
        "id": "NAFN6Y20x5Ju"
      },
      "outputs": [],
      "source": [
        "edad=int(input(\"dame tu edad: \"))"
      ]
    },
    {
      "cell_type": "code",
      "execution_count": null,
      "metadata": {
        "id": "HG1-8ukyx5Ju",
        "outputId": "a2bfff65-ade6-48b2-8c9a-3bf30bc7cea4"
      },
      "outputs": [
        {
          "data": {
            "text/plain": [
              "int"
            ]
          },
          "execution_count": 21,
          "metadata": {},
          "output_type": "execute_result"
        }
      ],
      "source": [
        "type(edad)"
      ]
    }
  ],
  "metadata": {
    "kernelspec": {
      "display_name": "Python 3",
      "language": "python",
      "name": "python3"
    },
    "language_info": {
      "codemirror_mode": {
        "name": "ipython",
        "version": 3
      },
      "file_extension": ".py",
      "mimetype": "text/x-python",
      "name": "python",
      "nbconvert_exporter": "python",
      "pygments_lexer": "ipython3",
      "version": "3.12.6"
    },
    "colab": {
      "provenance": []
    }
  },
  "nbformat": 4,
  "nbformat_minor": 0
}