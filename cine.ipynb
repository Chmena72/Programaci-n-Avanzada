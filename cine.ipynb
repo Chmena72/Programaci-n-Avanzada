{
  "cells": [
    {
      "cell_type": "code",
      "execution_count": null,
      "metadata": {
        "id": "OlQly3VIx7yv"
      },
      "outputs": [],
      "source": [
        "class Persona:\n",
        "\n",
        "    lista=[]\n",
        "\n",
        "    def __init__(self,nombre,correo):\n",
        "        self.nombre=nombre\n",
        "        self.correo=correo\n",
        "\n",
        "    def registrar(self):\n",
        "        Persona.lista.append(self)\n",
        "        print(f\"La persona {self.nombre} ha sido registrada con el correo {self.correo}\")\n",
        "\n",
        "    def actualizar_datos(self,nombre,correo):\n",
        "        self.nombre=nombre\n",
        "        self.correo=correo\n",
        "        print(f\"Los datos han sido actualizados\")\n",
        "\n",
        "    @classmethod\n",
        "    def personas_registradas(cls):\n",
        "        print(\"Personas registradas\")\n",
        "        for Persona in cls.lista:\n",
        "            print(f\"-{Persona.nombre} - {Persona.correo}\")"
      ]
    },
    {
      "cell_type": "code",
      "execution_count": null,
      "metadata": {
        "id": "0US_okFQx7yw",
        "outputId": "1ed08fa4-49ba-41b8-acbb-cf2ba1682451"
      },
      "outputs": [
        {
          "name": "stdout",
          "output_type": "stream",
          "text": [
            "La persona Luis ha sido registrada con el correo luis@gmail.com\n",
            "La persona Laura ha sido registrada con el correo laura@gmail.com\n",
            "La persona Ximena ha sido registrada con el correo Ximena@gmail.com\n"
          ]
        }
      ],
      "source": [
        "p1=Persona(\"Luis\",\"luis@gmail.com\")\n",
        "p2=Persona(\"Laura\",\"laura@gmail.com\")\n",
        "p3=Persona(\"Ximena\",\"Ximena@gmail.com\")\n",
        "Persona.registrar(p1)\n",
        "Persona.registrar(p2)\n",
        "Persona.registrar(p3)\n"
      ]
    },
    {
      "cell_type": "code",
      "execution_count": null,
      "metadata": {
        "id": "E1LP5lXQx7yx",
        "outputId": "f3cb00d9-e983-4234-a934-e87ffa87d98e"
      },
      "outputs": [
        {
          "name": "stdout",
          "output_type": "stream",
          "text": [
            "Personas registradas\n",
            "-Luis - luis@gmail.com\n",
            "-Laura - laura@gmail.com\n",
            "-Ximena - Ximena@gmail.com\n"
          ]
        }
      ],
      "source": [
        "Persona.personas_registradas()"
      ]
    },
    {
      "cell_type": "code",
      "execution_count": null,
      "metadata": {
        "id": "qIf-x1Pax7yx"
      },
      "outputs": [],
      "source": [
        "class Usuario(persona):\n",
        "    def reserva(self):\n",
        "        pass\n",
        "    def cancelarreserva(self):\n",
        "        pass\n",
        "    def accederpromo(self):\n",
        "        pass"
      ]
    },
    {
      "cell_type": "code",
      "execution_count": null,
      "metadata": {
        "id": "U1fVx0Bhx7yx"
      },
      "outputs": [],
      "source": [
        "class Empleado(persona):\n",
        "    def __init__(self,nombre,correo,rol):\n",
        "        super().__init__(nombre, correo)\n",
        "        self.rol=rol\n",
        "\n",
        "    def agregar_funcion(self):\n",
        "        pass\n",
        "\n",
        "    def agregar_pelicula(self):\n",
        "        pass\n",
        "\n",
        "    def agregar_promo(self):\n",
        "        pass"
      ]
    },
    {
      "cell_type": "code",
      "execution_count": null,
      "metadata": {
        "id": "E2xtKAJmx7yx"
      },
      "outputs": [],
      "source": [
        "class Espacio:\n",
        "    def __init__(self,tamaño,identificador):\n",
        "        self.tamaño=tamaño\n",
        "        self.identificador=identificador\n",
        "\n",
        "    def descripcion(self):\n",
        "        print(f\"El edificio tiene tamaño {self.tamaño} y tiene id {self.identificador}\")"
      ]
    },
    {
      "cell_type": "code",
      "execution_count": null,
      "metadata": {
        "id": "VraDVlLex7yx"
      },
      "outputs": [],
      "source": [
        "class Sala(Espacio):\n",
        "    def __init__(self,tamaño,identificador,tipo):\n",
        "        super().__init__(tamaño,identificador)\n",
        "        self.tipo=tipo\n",
        "        self.disponibilidad=True\n",
        "\n",
        "    def Consultardisponibilidad(self):\n",
        "        if self.disponibilidad:\n",
        "            print(\"La sala esta disponible\")\n",
        "        else:\n",
        "            print(\"La sala esta ocupada\")"
      ]
    },
    {
      "cell_type": "code",
      "execution_count": null,
      "metadata": {
        "id": "wnF_m4f1x7yy",
        "outputId": "d3d22b99-94e5-47ea-aa9e-9807285b7fc7"
      },
      "outputs": [
        {
          "name": "stdout",
          "output_type": "stream",
          "text": [
            "La sala esta disponible\n"
          ]
        }
      ],
      "source": [
        "sala1=Sala(100,\"Sala cine\",\"3d\")\n",
        "sala1.Consultardisponibilidad()"
      ]
    },
    {
      "cell_type": "code",
      "execution_count": null,
      "metadata": {
        "id": "U0n4cDUAx7yy",
        "outputId": "29fca204-4fbe-4395-efab-552cfd745a61"
      },
      "outputs": [
        {
          "name": "stdout",
          "output_type": "stream",
          "text": [
            "La sala esta ocupada\n"
          ]
        }
      ],
      "source": [
        "sala1.disponibilidad=False\n",
        "sala1.Consultardisponibilidad()"
      ]
    }
  ],
  "metadata": {
    "kernelspec": {
      "display_name": "Python 3",
      "language": "python",
      "name": "python3"
    },
    "language_info": {
      "codemirror_mode": {
        "name": "ipython",
        "version": 3
      },
      "file_extension": ".py",
      "mimetype": "text/x-python",
      "name": "python",
      "nbconvert_exporter": "python",
      "pygments_lexer": "ipython3",
      "version": "3.12.6"
    },
    "colab": {
      "provenance": []
    }
  },
  "nbformat": 4,
  "nbformat_minor": 0
}